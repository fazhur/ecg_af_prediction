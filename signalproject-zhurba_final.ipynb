{
 "cells": [
  {
   "cell_type": "code",
   "execution_count": 2,
   "metadata": {
    "execution": {
     "iopub.execute_input": "2024-12-14T20:17:18.620568Z",
     "iopub.status.busy": "2024-12-14T20:17:18.619527Z",
     "iopub.status.idle": "2024-12-14T20:17:28.693189Z",
     "shell.execute_reply": "2024-12-14T20:17:28.692165Z",
     "shell.execute_reply.started": "2024-12-14T20:17:18.620529Z"
    },
    "trusted": true
   },
   "outputs": [],
   "source": [
    "!pip install -q wfdb"
   ]
  },
  {
   "cell_type": "code",
   "execution_count": 1,
   "metadata": {
    "execution": {
     "iopub.execute_input": "2024-12-14T20:17:28.695231Z",
     "iopub.status.busy": "2024-12-14T20:17:28.694923Z",
     "iopub.status.idle": "2024-12-14T20:17:31.105124Z",
     "shell.execute_reply": "2024-12-14T20:17:31.104281Z",
     "shell.execute_reply.started": "2024-12-14T20:17:28.695201Z"
    },
    "trusted": true
   },
   "outputs": [],
   "source": [
    "import os\n",
    "import wfdb\n",
    "import numpy as np\n",
    "import pandas as pd\n",
    "import torch\n",
    "from torch.utils.data import Dataset, DataLoader\n",
    "import matplotlib.pyplot as plt\n",
    "from sklearn.model_selection import train_test_split\n",
    "from torch.utils.data import DataLoader, Dataset\n",
    "from sklearn.metrics import classification_report\n",
    "import torch.nn as nn\n",
    "import torch.optim as optim\n",
    "from tqdm import tqdm"
   ]
  },
  {
   "cell_type": "code",
   "execution_count": 2,
   "metadata": {
    "execution": {
     "iopub.execute_input": "2024-12-14T20:18:09.021848Z",
     "iopub.status.busy": "2024-12-14T20:18:09.020795Z",
     "iopub.status.idle": "2024-12-14T20:18:09.044957Z",
     "shell.execute_reply": "2024-12-14T20:18:09.044066Z",
     "shell.execute_reply.started": "2024-12-14T20:18:09.021798Z"
    },
    "trusted": true
   },
   "outputs": [],
   "source": [
    "data_path = '/kaggle/input/japanese-holter-ecg/shdb-af-a-japanese-holter-ecg-database-of-atrial-fibrillation-1.0.0'\n",
    "files = os.listdir(data_path)\n",
    "files = [f for f in files if f.endswith('.dat') or f.endswith('.hea') or f.endswith('.atr') or f.endswith('.qrs')]"
   ]
  },
  {
   "cell_type": "code",
   "execution_count": 3,
   "metadata": {
    "execution": {
     "iopub.execute_input": "2024-12-14T20:18:15.561530Z",
     "iopub.status.busy": "2024-12-14T20:18:15.560541Z",
     "iopub.status.idle": "2024-12-14T20:18:15.567190Z",
     "shell.execute_reply": "2024-12-14T20:18:15.566075Z",
     "shell.execute_reply.started": "2024-12-14T20:18:15.561479Z"
    },
    "trusted": true
   },
   "outputs": [],
   "source": [
    "files_grouped = {}\n",
    "for file in files:\n",
    "    number = file.split('.')[0]\n",
    "    if number in files_grouped:\n",
    "        files_grouped[number].append(file)\n",
    "    else:\n",
    "        files_grouped[number] = [file]\n",
    "fs = 200"
   ]
  },
  {
   "cell_type": "code",
   "execution_count": 4,
   "metadata": {
    "execution": {
     "iopub.execute_input": "2024-12-14T20:18:17.256161Z",
     "iopub.status.busy": "2024-12-14T20:18:17.255488Z",
     "iopub.status.idle": "2024-12-14T20:18:17.263284Z",
     "shell.execute_reply": "2024-12-14T20:18:17.262387Z",
     "shell.execute_reply.started": "2024-12-14T20:18:17.256126Z"
    },
    "trusted": true
   },
   "outputs": [
    {
     "name": "stdout",
     "output_type": "stream",
     "text": [
      "Number of files: 100\n"
     ]
    },
    {
     "data": {
      "text/plain": [
       "['001.atr', '001.dat', '001.hea', '001.qrs']"
      ]
     },
     "execution_count": 4,
     "metadata": {},
     "output_type": "execute_result"
    }
   ],
   "source": [
    "print(f'Number of files: {len(files_grouped)}')\n",
    "files_grouped['001']"
   ]
  },
  {
   "cell_type": "code",
   "execution_count": 5,
   "metadata": {
    "execution": {
     "iopub.execute_input": "2024-12-14T20:18:35.739117Z",
     "iopub.status.busy": "2024-12-14T20:18:35.738255Z",
     "iopub.status.idle": "2024-12-14T20:18:38.207944Z",
     "shell.execute_reply": "2024-12-14T20:18:38.207064Z",
     "shell.execute_reply.started": "2024-12-14T20:18:35.739063Z"
    },
    "trusted": true
   },
   "outputs": [
    {
     "name": "stdout",
     "output_type": "stream",
     "text": [
      "Sampling frequency: 200\n",
      "Signal shape: (17220000, 2)\n",
      "Number of annotations: 143768\n",
      "Annotation types: ['' '(AFIB' '(N']\n"
     ]
    }
   ],
   "source": [
    "example_record = list(files_grouped.keys())[0]\n",
    "record = wfdb.rdsamp(os.path.join(data_path, example_record))[0]\n",
    "sig = record\n",
    "print(\"Sampling frequency:\", fs)\n",
    "print(\"Signal shape:\", sig.shape)\n",
    "ann = wfdb.rdann(os.path.join(data_path, example_record), 'atr')\n",
    "print(\"Number of annotations:\", len(ann.sample))\n",
    "print(\"Annotation types:\", np.unique(ann.aux_note))"
   ]
  },
  {
   "cell_type": "code",
   "execution_count": 6,
   "metadata": {
    "execution": {
     "iopub.execute_input": "2024-12-14T20:18:39.055198Z",
     "iopub.status.busy": "2024-12-14T20:18:39.054831Z",
     "iopub.status.idle": "2024-12-14T20:18:39.065239Z",
     "shell.execute_reply": "2024-12-14T20:18:39.064238Z",
     "shell.execute_reply.started": "2024-12-14T20:18:39.055164Z"
    },
    "trusted": true
   },
   "outputs": [],
   "source": [
    "def parse_rhythm_intervals(ann, default_label='UNKNOWN'):\n",
    "    \"\"\"\n",
    "    Parse rhythm intervals from annotation object.\n",
    "    Each aux_note with a rhythm name marks the start of a new rhythm interval.\n",
    "    Returns a list of tuples: (start_sample, end_sample, rhythm_label).\n",
    "    \"\"\"\n",
    "    rhythm_indices = [i for i, aux in enumerate(ann.aux_note) if len(aux.strip()) > 0]\n",
    "\n",
    "    intervals = []\n",
    "    for i in range(len(rhythm_indices)):\n",
    "        start_idx = ann.sample[rhythm_indices[i]]\n",
    "        label = ann.aux_note[rhythm_indices[i]]\n",
    "\n",
    "        if i < len(rhythm_indices) - 1:\n",
    "            end_idx = ann.sample[rhythm_indices[i+1]] - 1\n",
    "        else:\n",
    "            end_idx = ann.sample[-1] if len(ann.sample) > 0 else start_idx\n",
    "\n",
    "        intervals.append((start_idx, end_idx, label.strip()))\n",
    "    return intervals\n",
    "\n",
    "def segment_data_using_intervals(signal, intervals, fs, window_size=5, af_label='AFIB'):\n",
    "    \"\"\"\n",
    "    Segment the signal into fixed-length windows and label each as AF or not AF.\n",
    "    Each window is considered AF if it overlaps with any interval labeled as AF.\n",
    "    \"\"\"\n",
    "    length = len(signal)\n",
    "    win_samples = int(fs * window_size)\n",
    "    segments = []\n",
    "    labels = []\n",
    "\n",
    "    start = 0\n",
    "    \n",
    "    while start + win_samples <= length:\n",
    "        seg = signal[start:start+win_samples]\n",
    "        segment_end = start + win_samples - 1\n",
    "        is_af = 0\n",
    "        for (int_start, int_end, int_label) in intervals:\n",
    "            if int_end >= start and int_start <= segment_end: \n",
    "                if af_label in int_label:\n",
    "                    is_af = 1\n",
    "                    break\n",
    "\n",
    "        segments.append(seg)\n",
    "        labels.append(is_af)\n",
    "        start += win_samples\n",
    "\n",
    "    return np.array(segments), np.array(labels)"
   ]
  },
  {
   "cell_type": "code",
   "execution_count": 7,
   "metadata": {
    "execution": {
     "iopub.execute_input": "2024-12-14T20:18:42.530346Z",
     "iopub.status.busy": "2024-12-14T20:18:42.529966Z",
     "iopub.status.idle": "2024-12-14T20:18:43.111605Z",
     "shell.execute_reply": "2024-12-14T20:18:43.110639Z",
     "shell.execute_reply.started": "2024-12-14T20:18:42.530313Z"
    },
    "trusted": true
   },
   "outputs": [
    {
     "name": "stdout",
     "output_type": "stream",
     "text": [
      "Number of segments: 17220\n",
      "Labels distribution: [7509 9711]\n"
     ]
    }
   ],
   "source": [
    "intervals = parse_rhythm_intervals(ann)\n",
    "segments, labels = segment_data_using_intervals(sig, intervals, fs)\n",
    "print(\"Number of segments:\", len(segments))\n",
    "print(\"Labels distribution:\", np.bincount(labels))"
   ]
  },
  {
   "cell_type": "code",
   "execution_count": 15,
   "metadata": {},
   "outputs": [
    {
     "data": {
      "image/png": "[encoded data removed]",
      "text/plain": [
       "<Figure size 1200x400 with 2 Axes>"
      ]
     },
     "metadata": {},
     "output_type": "display_data"
    }
   ],
   "source": [
    "af_indices = np.where(labels == 1)[0]\n",
    "non_af_indices = np.where(labels == 0)[0]\n",
    "\n",
    "af_segments = segments[af_indices]\n",
    "af_labels = labels[af_indices]\n",
    "\n",
    "non_af_segments = segments[non_af_indices]\n",
    "non_af_labels = labels[non_af_indices]\n",
    "\n",
    "if af_segments.ndim == 3:\n",
    "    af_segments = af_segments.squeeze()\n",
    "if non_af_segments.ndim == 3:\n",
    "    non_af_segments = non_af_segments.squeeze()\n",
    "\n",
    "np.random.seed(42)\n",
    "random_af_idx = np.random.randint(0, len(af_segments))\n",
    "random_non_af_idx = np.random.randint(0, len(non_af_segments))\n",
    "\n",
    "af_example = af_segments[random_af_idx]\n",
    "non_af_example = non_af_segments[random_non_af_idx]\n",
    "\n",
    "fig, axes = plt.subplots(nrows=1, ncols=2, figsize=(12, 4))\n",
    "\n",
    "axes[0].plot(af_example[:, 0], color='r', label='Channel 1')\n",
    "axes[0].plot(af_example[:, 1], color='g', label='Channel 2')\n",
    "axes[0].set_title('AF Segment')\n",
    "axes[0].set_xlabel('Samples')\n",
    "axes[0].set_ylabel('Amplitude')\n",
    "axes[0].grid(True)\n",
    "axes[0].legend()\n",
    "\n",
    "axes[1].plot(non_af_example[:, 0], color='b', label='Channel 1')\n",
    "axes[1].plot(non_af_example[:, 1], color='m', label='Channel 2')\n",
    "axes[1].set_title('Non-AF Segment')\n",
    "axes[1].set_xlabel('Samples')\n",
    "axes[1].set_ylabel('Amplitude')\n",
    "axes[1].grid(True)\n",
    "axes[1].legend()\n",
    "\n",
    "plt.tight_layout()\n",
    "plt.show()\n"
   ]
  },
  {
   "cell_type": "code",
   "execution_count": 11,
   "metadata": {
    "execution": {
     "iopub.execute_input": "2024-12-14T20:18:44.959241Z",
     "iopub.status.busy": "2024-12-14T20:18:44.958883Z",
     "iopub.status.idle": "2024-12-14T20:18:44.969409Z",
     "shell.execute_reply": "2024-12-14T20:18:44.968546Z",
     "shell.execute_reply.started": "2024-12-14T20:18:44.959207Z"
    },
    "trusted": true
   },
   "outputs": [],
   "source": [
    "class AFBDataset(Dataset):\n",
    "    \"\"\"\n",
    "    A PyTorch Dataset that:\n",
    "    - Reads ECG data and annotations from given records.\n",
    "    - Parses rhythm intervals from aux_note annotations.\n",
    "    - Segments the signal into fixed-length windows.\n",
    "    - Labels each window as AF or not AF.\n",
    "    - (Optional) Normalizes the ECG segments.\n",
    "    \"\"\"\n",
    "    def __init__(self, data_path, records, fs=200, window_size=5, af_label='AFIB', transform=None, normalize=True):\n",
    "        \"\"\"\n",
    "        Args:\n",
    "            data_path (str): Path to the directory containing record files.\n",
    "            records (list): List of record names (e.g. ['100', '101', ...]).\n",
    "            fs (int): Sampling frequency of the ECG signal.\n",
    "            window_size (float): Window length in seconds.\n",
    "            af_label (str): String that identifies AF intervals in the aux_note (e.g. 'AFIB').\n",
    "            transform (callable, optional): Optional transform to be applied on a sample.\n",
    "            normalize (bool): If True, normalize the data (z-score) across all segments.\n",
    "        \"\"\"\n",
    "        self.data_path = data_path\n",
    "        self.records = records\n",
    "        self.fs = fs\n",
    "        self.window_size = window_size\n",
    "        self.af_label = af_label\n",
    "        self.transform = transform\n",
    "        self.normalize = normalize\n",
    "\n",
    "        self.segments = []\n",
    "        self.labels = []\n",
    "        self._load_data()\n",
    "\n",
    "    def _load_data(self):\n",
    "        for rec in self.records:\n",
    "            record = wfdb.rdsamp(os.path.join(self.data_path, rec))[0]\n",
    "            sig = record\n",
    "            ann = wfdb.rdann(os.path.join(self.data_path, rec), 'atr')\n",
    "            intervals = parse_rhythm_intervals(ann)\n",
    "            channel_data = sig[:, 0]\n",
    "            segs, labs = segment_data_using_intervals(\n",
    "                signal=channel_data,\n",
    "                intervals=intervals,\n",
    "                fs=self.fs,\n",
    "                window_size=self.window_size,\n",
    "                af_label=self.af_label\n",
    "            )\n",
    "            self.segments.append(segs)\n",
    "            self.labels.append(labs)\n",
    "\n",
    "        self.segments = np.concatenate(self.segments, axis=0)\n",
    "        self.labels = np.concatenate(self.labels, axis=0)\n",
    "\n",
    "        if self.normalize:\n",
    "            mean = np.mean(self.segments)\n",
    "            std = np.std(self.segments) + 1e-8\n",
    "            self.segments = (self.segments - mean) / std\n",
    "\n",
    "    def __len__(self):\n",
    "        return len(self.segments)\n",
    "\n",
    "    def __getitem__(self, idx):\n",
    "        x = self.segments[idx]\n",
    "        y = self.labels[idx]\n",
    "        \n",
    "        x = np.expand_dims(x, axis=0)\n",
    "\n",
    "        if self.transform:\n",
    "            x = self.transform(x)\n",
    "\n",
    "        x = torch.tensor(x, dtype=torch.float32)\n",
    "        y = torch.tensor(y, dtype=torch.long)\n",
    "\n",
    "        return x, y"
   ]
  },
  {
   "cell_type": "code",
   "execution_count": 12,
   "metadata": {
    "execution": {
     "iopub.execute_input": "2024-12-14T20:18:47.736249Z",
     "iopub.status.busy": "2024-12-14T20:18:47.735395Z",
     "iopub.status.idle": "2024-12-14T20:18:47.746281Z",
     "shell.execute_reply": "2024-12-14T20:18:47.745527Z",
     "shell.execute_reply.started": "2024-12-14T20:18:47.736211Z"
    },
    "trusted": true
   },
   "outputs": [],
   "source": [
    "torch.manual_seed(0)\n",
    "np.random.seed(0)\n",
    "train_files, test_files = train_test_split(list(files_grouped.keys()), test_size=0.15, random_state=0)\n",
    "train_files, val_files = train_test_split(train_files, test_size=0.17, random_state=0)"
   ]
  },
  {
   "cell_type": "code",
   "execution_count": 13,
   "metadata": {
    "execution": {
     "iopub.execute_input": "2024-12-14T20:18:48.864752Z",
     "iopub.status.busy": "2024-12-14T20:18:48.864344Z",
     "iopub.status.idle": "2024-12-14T20:18:48.869644Z",
     "shell.execute_reply": "2024-12-14T20:18:48.868778Z",
     "shell.execute_reply.started": "2024-12-14T20:18:48.864685Z"
    },
    "trusted": true
   },
   "outputs": [
    {
     "name": "stdout",
     "output_type": "stream",
     "text": [
      "70 15 15\n"
     ]
    }
   ],
   "source": [
    "print(len(train_files), len(val_files), len(test_files))"
   ]
  },
  {
   "cell_type": "code",
   "execution_count": 14,
   "metadata": {
    "execution": {
     "iopub.execute_input": "2024-12-14T20:18:50.028490Z",
     "iopub.status.busy": "2024-12-14T20:18:50.028137Z",
     "iopub.status.idle": "2024-12-14T20:22:40.118892Z",
     "shell.execute_reply": "2024-12-14T20:22:40.117965Z",
     "shell.execute_reply.started": "2024-12-14T20:18:50.028458Z"
    },
    "trusted": true
   },
   "outputs": [],
   "source": [
    "train_dataset = AFBDataset(data_path, train_files)\n",
    "val_dataset = AFBDataset(data_path, val_files)\n",
    "test_dataset = AFBDataset(data_path, test_files)"
   ]
  },
  {
   "cell_type": "code",
   "execution_count": 15,
   "metadata": {
    "execution": {
     "iopub.execute_input": "2024-12-14T20:23:27.328038Z",
     "iopub.status.busy": "2024-12-14T20:23:27.327632Z",
     "iopub.status.idle": "2024-12-14T20:23:27.333052Z",
     "shell.execute_reply": "2024-12-14T20:23:27.332185Z",
     "shell.execute_reply.started": "2024-12-14T20:23:27.328004Z"
    },
    "trusted": true
   },
   "outputs": [],
   "source": [
    "train_loader = DataLoader(train_dataset, batch_size=8, shuffle=True)\n",
    "val_loader = DataLoader(val_dataset, batch_size=8, shuffle=False)\n",
    "test_loader = DataLoader(test_dataset, batch_size=8, shuffle=False)"
   ]
  },
  {
   "cell_type": "code",
   "execution_count": null,
   "metadata": {
    "execution": {
     "iopub.status.busy": "2024-12-14T20:12:46.648567Z",
     "iopub.status.idle": "2024-12-14T20:12:46.648884Z",
     "shell.execute_reply": "2024-12-14T20:12:46.648755Z",
     "shell.execute_reply.started": "2024-12-14T20:12:46.648736Z"
    },
    "trusted": true
   },
   "outputs": [],
   "source": [
    "for x, y in test_loader:\n",
    "    print(\"Input shape:\", x.shape)\n",
    "    print(x[0, 0, :10])\n",
    "    print(y)\n",
    "    print(\"Y shape:\", y.shape)\n",
    "    break"
   ]
  },
  {
   "cell_type": "code",
   "execution_count": null,
   "metadata": {
    "execution": {
     "iopub.execute_input": "2024-12-12T10:24:19.602052Z",
     "iopub.status.busy": "2024-12-12T10:24:19.601703Z",
     "iopub.status.idle": "2024-12-12T10:24:19.610049Z",
     "shell.execute_reply": "2024-12-12T10:24:19.609264Z",
     "shell.execute_reply.started": "2024-12-12T10:24:19.602021Z"
    },
    "trusted": true
   },
   "outputs": [],
   "source": [
    "class Simple1DCNN(nn.Module):\n",
    "    def __init__(self, input_length, num_classes=2):\n",
    "        super(Simple1DCNN, self).__init__()\n",
    "        self.conv1 = nn.Conv1d(1, 16, kernel_size=7, stride=1, padding=3)\n",
    "        self.bn1 = nn.BatchNorm1d(16)\n",
    "        self.relu = nn.ReLU()\n",
    "        self.pool = nn.MaxPool1d(2)\n",
    "        \n",
    "        self.conv2 = nn.Conv1d(16, 32, kernel_size=7, stride=1, padding=3)\n",
    "        self.bn2 = nn.BatchNorm1d(32)\n",
    "        \n",
    "        feature_size = self._calculate_feature_size(input_length)\n",
    "        self.fc = nn.Linear(feature_size, num_classes)\n",
    "\n",
    "    def _calculate_feature_size(self, input_length):\n",
    "        x = torch.zeros(1, 1, input_length)\n",
    "        x = self.pool(self.relu(self.bn1(self.conv1(x))))\n",
    "        x = self.relu(self.bn2(self.conv2(x)))\n",
    "        x = x.mean(dim=2)\n",
    "        return x.shape[1]\n",
    "\n",
    "    def forward(self, x):\n",
    "        x = self.relu(self.bn1(self.conv1(x)))\n",
    "        x = self.pool(x)\n",
    "        x = self.relu(self.bn2(self.conv2(x)))\n",
    "        x = x.mean(dim=2)\n",
    "        x = self.fc(x)\n",
    "        return x"
   ]
  },
  {
   "cell_type": "code",
   "execution_count": 26,
   "metadata": {
    "execution": {
     "iopub.execute_input": "2024-12-12T10:24:25.822857Z",
     "iopub.status.busy": "2024-12-12T10:24:25.822505Z",
     "iopub.status.idle": "2024-12-12T10:24:26.933130Z",
     "shell.execute_reply": "2024-12-12T10:24:26.932464Z",
     "shell.execute_reply.started": "2024-12-12T10:24:25.822827Z"
    },
    "trusted": true
   },
   "outputs": [],
   "source": [
    "input_length = train_dataset.segments.shape[1]\n",
    "model = Simple1DCNN(input_length=input_length, num_classes=2)\n",
    "criterion = nn.CrossEntropyLoss()\n",
    "optimizer = optim.Adam(model.parameters(), lr=0.001)"
   ]
  },
  {
   "cell_type": "code",
   "execution_count": 29,
   "metadata": {
    "execution": {
     "iopub.execute_input": "2024-12-12T10:25:37.679524Z",
     "iopub.status.busy": "2024-12-12T10:25:37.678692Z",
     "iopub.status.idle": "2024-12-12T10:25:37.686536Z",
     "shell.execute_reply": "2024-12-12T10:25:37.685607Z",
     "shell.execute_reply.started": "2024-12-12T10:25:37.679486Z"
    },
    "trusted": true
   },
   "outputs": [],
   "source": [
    "def train_epoch(model, loader, criterion, optimizer, device='cpu'):\n",
    "    model.train()\n",
    "    total_loss = 0\n",
    "    correct = 0\n",
    "    for x, y in loader:\n",
    "        x = x.to(device)\n",
    "        y = y.to(device)\n",
    "        optimizer.zero_grad()\n",
    "        outputs = model(x)\n",
    "        loss = criterion(outputs, y)\n",
    "        loss.backward()\n",
    "        optimizer.step()\n",
    "        total_loss += loss.item() * x.size(0)\n",
    "        _, pred = torch.max(outputs, 1)\n",
    "        correct += (pred == y).sum().item()\n",
    "    return total_loss / len(loader.dataset), correct / len(loader.dataset)\n",
    "\n",
    "def eval_epoch(model, loader, criterion, device='cpu'):\n",
    "    model.eval()\n",
    "    total_loss = 0\n",
    "    correct = 0\n",
    "    with torch.no_grad():\n",
    "        for x, y in loader:\n",
    "            x = x.to(device)\n",
    "            y = y.to(device)\n",
    "            outputs = model(x)\n",
    "            loss = criterion(outputs, y)\n",
    "            total_loss += loss.item() * x.size(0)\n",
    "            _, pred = torch.max(outputs, 1)\n",
    "            correct += (pred == y).sum().item()\n",
    "    return total_loss / len(loader.dataset), correct / len(loader.dataset)"
   ]
  },
  {
   "cell_type": "code",
   "execution_count": 30,
   "metadata": {
    "execution": {
     "iopub.execute_input": "2024-12-12T10:26:57.720539Z",
     "iopub.status.busy": "2024-12-12T10:26:57.719794Z",
     "iopub.status.idle": "2024-12-12T10:59:07.717307Z",
     "shell.execute_reply": "2024-12-12T10:59:07.716333Z",
     "shell.execute_reply.started": "2024-12-12T10:26:57.720502Z"
    },
    "trusted": true
   },
   "outputs": [
    {
     "name": "stderr",
     "output_type": "stream",
     "text": [
      " 20%|██        | 1/5 [06:28<25:53, 388.45s/it]"
     ]
    },
    {
     "name": "stdout",
     "output_type": "stream",
     "text": [
      "Epoch 1/5, Train Loss: 0.2330, Train Acc: 0.9063, Val Loss: 0.3047, Val Acc: 0.8816\n"
     ]
    },
    {
     "name": "stderr",
     "output_type": "stream",
     "text": [
      " 40%|████      | 2/5 [12:54<19:21, 387.17s/it]"
     ]
    },
    {
     "name": "stdout",
     "output_type": "stream",
     "text": [
      "Epoch 2/5, Train Loss: 0.1639, Train Acc: 0.9371, Val Loss: 0.2595, Val Acc: 0.9069\n"
     ]
    },
    {
     "name": "stderr",
     "output_type": "stream",
     "text": [
      " 60%|██████    | 3/5 [19:22<12:54, 387.28s/it]"
     ]
    },
    {
     "name": "stdout",
     "output_type": "stream",
     "text": [
      "Epoch 3/5, Train Loss: 0.1444, Train Acc: 0.9454, Val Loss: 0.2662, Val Acc: 0.8973\n"
     ]
    },
    {
     "name": "stderr",
     "output_type": "stream",
     "text": [
      " 80%|████████  | 4/5 [25:44<06:25, 385.31s/it]"
     ]
    },
    {
     "name": "stdout",
     "output_type": "stream",
     "text": [
      "Epoch 4/5, Train Loss: 0.1333, Train Acc: 0.9502, Val Loss: 0.5199, Val Acc: 0.8614\n"
     ]
    },
    {
     "name": "stderr",
     "output_type": "stream",
     "text": [
      "100%|██████████| 5/5 [32:09<00:00, 386.00s/it]"
     ]
    },
    {
     "name": "stdout",
     "output_type": "stream",
     "text": [
      "Epoch 5/5, Train Loss: 0.1263, Train Acc: 0.9533, Val Loss: 0.6360, Val Acc: 0.8425\n"
     ]
    },
    {
     "name": "stderr",
     "output_type": "stream",
     "text": [
      "\n"
     ]
    }
   ],
   "source": [
    "device = torch.device('cuda' if torch.cuda.is_available() else 'cpu')\n",
    "model.to(device)\n",
    "\n",
    "epochs = 5\n",
    "best_val_acc = 0.0\n",
    "train_losses = []\n",
    "val_losses = []\n",
    "\n",
    "for epoch in tqdm(range(epochs)):\n",
    "    train_loss, train_acc = train_epoch(model, train_loader, criterion, optimizer, device)\n",
    "    val_loss, val_acc = eval_epoch(model, val_loader, criterion, device)\n",
    "    print(f\"Epoch {epoch+1}/{epochs}, Train Loss: {train_loss:.4f}, \"\n",
    "            f\"Train Acc: {train_acc:.4f}, Val Loss: {val_loss:.4f}, Val Acc: {val_acc:.4f}\")\n",
    "    train_losses.append(train_loss)\n",
    "    val_losses.append(val_loss)\n",
    "    if val_acc > best_val_acc:\n",
    "        best_val_acc = val_acc\n",
    "        torch.save(model.state_dict(), 'intial_cnn.pth')"
   ]
  },
  {
   "cell_type": "code",
   "execution_count": 3,
   "metadata": {
    "execution": {
     "iopub.execute_input": "2024-12-12T11:00:39.380681Z",
     "iopub.status.busy": "2024-12-12T11:00:39.380276Z",
     "iopub.status.idle": "2024-12-12T11:00:39.385633Z",
     "shell.execute_reply": "2024-12-12T11:00:39.384784Z",
     "shell.execute_reply.started": "2024-12-12T11:00:39.380649Z"
    },
    "trusted": true
   },
   "outputs": [],
   "source": [
    "def plot_losses(train_loss, valid_loss, title):\n",
    "    plt.figure(figsize=(8, 6))\n",
    "    plt.plot(train_loss, label='Train loss')\n",
    "    plt.plot(valid_loss, label='Validation loss')\n",
    "    plt.title(title)\n",
    "    plt.xlabel('Epoch')\n",
    "    plt.ylabel('Loss')\n",
    "    plt.legend()\n",
    "    plt.show()"
   ]
  },
  {
   "cell_type": "code",
   "execution_count": 32,
   "metadata": {
    "execution": {
     "iopub.execute_input": "2024-12-12T11:01:20.291765Z",
     "iopub.status.busy": "2024-12-12T11:01:20.290911Z",
     "iopub.status.idle": "2024-12-12T11:01:20.578720Z",
     "shell.execute_reply": "2024-12-12T11:01:20.577902Z",
     "shell.execute_reply.started": "2024-12-12T11:01:20.291731Z"
    },
    "trusted": true
   },
   "outputs": [
    {
     "data": {
      "image/png": "[encoded data removed]",
      "text/plain": [
       "<Figure size 800x600 with 1 Axes>"
      ]
     },
     "metadata": {},
     "output_type": "display_data"
    }
   ],
   "source": [
    "plot_losses(train_losses, val_losses, \"Losses in 1D CNN architecture\")"
   ]
  },
  {
   "cell_type": "code",
   "execution_count": 35,
   "metadata": {
    "execution": {
     "iopub.execute_input": "2024-12-12T11:03:57.150587Z",
     "iopub.status.busy": "2024-12-12T11:03:57.150164Z",
     "iopub.status.idle": "2024-12-12T11:03:57.156015Z",
     "shell.execute_reply": "2024-12-12T11:03:57.155253Z",
     "shell.execute_reply.started": "2024-12-12T11:03:57.150556Z"
    },
    "trusted": true
   },
   "outputs": [],
   "source": [
    "def evaluate(model, loader, criterion):\n",
    "    model.eval()\n",
    "    total_loss = 0\n",
    "    preds = []\n",
    "    trues = []\n",
    "    with torch.no_grad():\n",
    "        for x, y in loader:\n",
    "            x = x.to(device)\n",
    "            y = y.to(device)\n",
    "            logits = model(x)\n",
    "            loss = criterion(logits, y)\n",
    "            total_loss += loss.item() * x.size(0)\n",
    "            p = torch.argmax(logits, dim=1).cpu().numpy()\n",
    "            preds.extend(p)\n",
    "            trues.extend(y.cpu().numpy())\n",
    "    return total_loss / len(loader.dataset), trues, preds"
   ]
  },
  {
   "cell_type": "code",
   "execution_count": 36,
   "metadata": {
    "execution": {
     "iopub.execute_input": "2024-12-12T11:03:59.238326Z",
     "iopub.status.busy": "2024-12-12T11:03:59.237632Z",
     "iopub.status.idle": "2024-12-12T11:04:31.414295Z",
     "shell.execute_reply": "2024-12-12T11:04:31.413290Z",
     "shell.execute_reply.started": "2024-12-12T11:03:59.238291Z"
    },
    "trusted": true
   },
   "outputs": [
    {
     "name": "stdout",
     "output_type": "stream",
     "text": [
      "Test Loss: 0.41985601309271164\n",
      "              precision    recall  f1-score   support\n",
      "\n",
      "      Non-AF       0.98      0.82      0.89    218937\n",
      "          AF       0.48      0.91      0.63     40083\n",
      "\n",
      "    accuracy                           0.83    259020\n",
      "   macro avg       0.73      0.87      0.76    259020\n",
      "weighted avg       0.90      0.83      0.85    259020\n",
      "\n"
     ]
    }
   ],
   "source": [
    "test_loss, trues, preds = evaluate(model, test_loader, criterion)\n",
    "print(\"Test Loss:\", test_loss)\n",
    "print(classification_report(trues, preds, target_names=[\"Non-AF\", \"AF\"]))"
   ]
  },
  {
   "cell_type": "code",
   "execution_count": 37,
   "metadata": {
    "execution": {
     "iopub.execute_input": "2024-12-12T11:07:35.580946Z",
     "iopub.status.busy": "2024-12-12T11:07:35.580587Z",
     "iopub.status.idle": "2024-12-12T11:07:35.601147Z",
     "shell.execute_reply": "2024-12-12T11:07:35.600048Z",
     "shell.execute_reply.started": "2024-12-12T11:07:35.580920Z"
    },
    "trusted": true
   },
   "outputs": [],
   "source": [
    "class SimpleRNNModel(nn.Module):\n",
    "    def __init__(self, input_size=1, hidden_size=64, num_layers=1, num_classes=2):\n",
    "        super(SimpleRNNModel, self).__init__()\n",
    "        self.rnn = nn.RNN(input_size, hidden_size, num_layers, batch_first=True)\n",
    "        self.fc = nn.Linear(hidden_size*1000, num_classes)\n",
    "        \n",
    "    def forward(self, x):\n",
    "        x = x.permute(0,2,1)\n",
    "        out, _ = self.rnn(x)\n",
    "        out = out.reshape(out.size(0), -1)\n",
    "        out = self.fc(out)\n",
    "        return out\n",
    "\n",
    "class LSTMModel(nn.Module):\n",
    "    def __init__(self, input_size=1, hidden_size=64, num_layers=1, num_classes=2):\n",
    "        super(LSTMModel, self).__init__()\n",
    "        self.lstm = nn.LSTM(input_size, hidden_size, num_layers, batch_first=True)\n",
    "        self.fc = nn.Linear(hidden_size*1000, num_classes)\n",
    "        \n",
    "    def forward(self, x):\n",
    "        x = x.permute(0,2,1)\n",
    "        out, (hn, cn) = self.lstm(x)\n",
    "        out = out.reshape(out.size(0), -1)\n",
    "        out = self.fc(out)\n",
    "        return out\n",
    "\n",
    "class RawECGNet(nn.Module):\n",
    "    def __init__(self, num_classes=2):\n",
    "        super(RawECGNet, self).__init__()\n",
    "        self.conv1 = nn.Conv1d(1, 16, kernel_size=7, padding=3)\n",
    "        self.bn1 = nn.BatchNorm1d(16)\n",
    "        self.conv2 = nn.Conv1d(16, 32, kernel_size=7, padding=3)\n",
    "        self.bn2 = nn.BatchNorm1d(32)\n",
    "        self.pool = nn.MaxPool1d(2)\n",
    "        self.fc = nn.Linear(32*(1000//2), num_classes)\n",
    "    def forward(self, x):\n",
    "        out = self.pool(torch.relu(self.bn1(self.conv1(x))))\n",
    "        out = torch.relu(self.bn2(self.conv2(out)))\n",
    "        out = out.reshape(out.size(0), -1)\n",
    "        out = self.fc(out)\n",
    "        return out\n",
    "\n",
    "class ArNet2(nn.Module):\n",
    "    def __init__(self, num_classes=2):\n",
    "        super(ArNet2, self).__init__()\n",
    "        self.conv1 = nn.Conv1d(1, 16, kernel_size=7, padding=3)\n",
    "        self.bn1 = nn.BatchNorm1d(16)\n",
    "        self.pool1 = nn.MaxPool1d(2)\n",
    "        self.lstm = nn.LSTM(input_size=16, hidden_size=64, num_layers=1, batch_first=True)\n",
    "        self.fc = nn.Linear(64*500, num_classes)\n",
    "    def forward(self, x):\n",
    "        x = torch.relu(self.bn1(self.conv1(x)))\n",
    "        x = self.pool1(x)\n",
    "        x = x.permute(0,2,1)\n",
    "        out, (hn, cn) = self.lstm(x)\n",
    "        out = out.reshape(out.size(0), -1)\n",
    "        out = self.fc(out)\n",
    "        return out"
   ]
  },
  {
   "cell_type": "code",
   "execution_count": 38,
   "metadata": {
    "execution": {
     "iopub.execute_input": "2024-12-12T11:07:46.992389Z",
     "iopub.status.busy": "2024-12-12T11:07:46.991766Z",
     "iopub.status.idle": "2024-12-12T11:07:46.997456Z",
     "shell.execute_reply": "2024-12-12T11:07:46.996485Z",
     "shell.execute_reply.started": "2024-12-12T11:07:46.992354Z"
    },
    "trusted": true
   },
   "outputs": [],
   "source": [
    "def train_one_epoch(model, loader, optimizer, criterion):\n",
    "    model.train()\n",
    "    total_loss = 0\n",
    "    for x, y in loader:\n",
    "        x = x.to(device)\n",
    "        y = y.to(device)\n",
    "        optimizer.zero_grad()\n",
    "        logits = model(x)\n",
    "        loss = criterion(logits, y)\n",
    "        loss.backward()\n",
    "        optimizer.step()\n",
    "        total_loss += loss.item() * x.size(0)\n",
    "    return total_loss / len(loader.dataset)"
   ]
  },
  {
   "cell_type": "code",
   "execution_count": 45,
   "metadata": {
    "execution": {
     "iopub.execute_input": "2024-12-12T11:34:51.700779Z",
     "iopub.status.busy": "2024-12-12T11:34:51.700448Z",
     "iopub.status.idle": "2024-12-12T11:34:51.707099Z",
     "shell.execute_reply": "2024-12-12T11:34:51.706180Z",
     "shell.execute_reply.started": "2024-12-12T11:34:51.700751Z"
    },
    "trusted": true
   },
   "outputs": [],
   "source": [
    "def train_and_test_model(model, train_loader, val_loader, test_loader, epochs=5, loss_threshold = 0.01):\n",
    "    model.to(device)\n",
    "    criterion = nn.CrossEntropyLoss()\n",
    "    optimizer = torch.optim.Adam(model.parameters(), lr=1e-3)\n",
    "\n",
    "    best_val_loss = float('inf')\n",
    "    best_model_state = None\n",
    "\n",
    "    for epoch in tqdm(range(epochs)):\n",
    "        train_loss = train_one_epoch(model, train_loader, optimizer, criterion)\n",
    "        val_loss, _, _ = evaluate(model, val_loader, criterion)\n",
    "        print(f\"Epoch {epoch+1}/{epochs}: Train Loss={train_loss:.4f}, Val Loss={val_loss:.4f}\")\n",
    "        \n",
    "        if val_loss < best_val_loss:\n",
    "            best_val_loss = val_loss\n",
    "            best_model_state = model.state_dict()\n",
    "        if val_loss < loss_threshold:\n",
    "            break\n",
    "    model.load_state_dict(best_model_state)\n",
    "\n",
    "    test_loss, trues, preds = evaluate(model, test_loader, criterion)\n",
    "    print(\"Test Loss:\", test_loss)\n",
    "    print(classification_report(trues, preds, target_names=[\"Non-AF\", \"AF\"]))\n",
    "    return trues, preds"
   ]
  },
  {
   "cell_type": "code",
   "execution_count": 46,
   "metadata": {
    "execution": {
     "iopub.execute_input": "2024-12-12T11:34:53.534576Z",
     "iopub.status.busy": "2024-12-12T11:34:53.533494Z",
     "iopub.status.idle": "2024-12-12T12:26:57.489558Z",
     "shell.execute_reply": "2024-12-12T12:26:57.488549Z",
     "shell.execute_reply.started": "2024-12-12T11:34:53.534526Z"
    },
    "trusted": true
   },
   "outputs": [
    {
     "name": "stderr",
     "output_type": "stream",
     "text": [
      " 20%|██        | 1/5 [10:13<40:54, 613.64s/it]"
     ]
    },
    {
     "name": "stdout",
     "output_type": "stream",
     "text": [
      "Epoch 1/5: Train Loss=9.0079, Val Loss=0.6975\n"
     ]
    },
    {
     "name": "stderr",
     "output_type": "stream",
     "text": [
      " 40%|████      | 2/5 [20:25<30:38, 612.77s/it]"
     ]
    },
    {
     "name": "stdout",
     "output_type": "stream",
     "text": [
      "Epoch 2/5: Train Loss=nan, Val Loss=nan\n"
     ]
    },
    {
     "name": "stderr",
     "output_type": "stream",
     "text": [
      " 60%|██████    | 3/5 [30:32<20:20, 610.20s/it]"
     ]
    },
    {
     "name": "stdout",
     "output_type": "stream",
     "text": [
      "Epoch 3/5: Train Loss=nan, Val Loss=nan\n"
     ]
    },
    {
     "name": "stderr",
     "output_type": "stream",
     "text": [
      " 80%|████████  | 4/5 [40:42<10:10, 610.06s/it]"
     ]
    },
    {
     "name": "stdout",
     "output_type": "stream",
     "text": [
      "Epoch 4/5: Train Loss=nan, Val Loss=nan\n"
     ]
    },
    {
     "name": "stderr",
     "output_type": "stream",
     "text": [
      "100%|██████████| 5/5 [50:54<00:00, 610.88s/it]"
     ]
    },
    {
     "name": "stdout",
     "output_type": "stream",
     "text": [
      "Epoch 5/5: Train Loss=nan, Val Loss=nan\n"
     ]
    },
    {
     "name": "stderr",
     "output_type": "stream",
     "text": [
      "\n"
     ]
    },
    {
     "name": "stdout",
     "output_type": "stream",
     "text": [
      "Test Loss: nan\n"
     ]
    },
    {
     "name": "stderr",
     "output_type": "stream",
     "text": [
      "/opt/conda/lib/python3.10/site-packages/sklearn/metrics/_classification.py:1344: UndefinedMetricWarning: Precision and F-score are ill-defined and being set to 0.0 in labels with no predicted samples. Use `zero_division` parameter to control this behavior.\n",
      "  _warn_prf(average, modifier, msg_start, len(result))\n"
     ]
    },
    {
     "name": "stdout",
     "output_type": "stream",
     "text": [
      "              precision    recall  f1-score   support\n",
      "\n",
      "      Non-AF       0.85      1.00      0.92    218937\n",
      "          AF       0.00      0.00      0.00     40083\n",
      "\n",
      "    accuracy                           0.85    259020\n",
      "   macro avg       0.42      0.50      0.46    259020\n",
      "weighted avg       0.71      0.85      0.77    259020\n",
      "\n"
     ]
    },
    {
     "name": "stderr",
     "output_type": "stream",
     "text": [
      "/opt/conda/lib/python3.10/site-packages/sklearn/metrics/_classification.py:1344: UndefinedMetricWarning: Precision and F-score are ill-defined and being set to 0.0 in labels with no predicted samples. Use `zero_division` parameter to control this behavior.\n",
      "  _warn_prf(average, modifier, msg_start, len(result))\n",
      "/opt/conda/lib/python3.10/site-packages/sklearn/metrics/_classification.py:1344: UndefinedMetricWarning: Precision and F-score are ill-defined and being set to 0.0 in labels with no predicted samples. Use `zero_division` parameter to control this behavior.\n",
      "  _warn_prf(average, modifier, msg_start, len(result))\n"
     ]
    }
   ],
   "source": [
    "rnn_model = SimpleRNNModel()\n",
    "trues_rnn, preds_rnn = train_and_test_model(rnn_model, train_loader, val_loader, test_loader, epochs=5)"
   ]
  },
  {
   "cell_type": "code",
   "execution_count": null,
   "metadata": {
    "execution": {
     "iopub.status.busy": "2024-12-12T12:40:45.093386Z",
     "iopub.status.idle": "2024-12-12T12:40:45.093848Z",
     "shell.execute_reply": "2024-12-12T12:40:45.093637Z",
     "shell.execute_reply.started": "2024-12-12T12:40:45.093612Z"
    },
    "trusted": true
   },
   "outputs": [],
   "source": [
    "lstm_model = LSTMModel()\n",
    "trues_lstm, preds_lstm = train_and_test_model(lstm_model, train_loader, val_loader, test_loader, epochs=5)"
   ]
  },
  {
   "cell_type": "code",
   "execution_count": 48,
   "metadata": {
    "execution": {
     "iopub.execute_input": "2024-12-12T12:41:21.430094Z",
     "iopub.status.busy": "2024-12-12T12:41:21.429461Z",
     "iopub.status.idle": "2024-12-12T13:28:48.042674Z",
     "shell.execute_reply": "2024-12-12T13:28:48.041671Z",
     "shell.execute_reply.started": "2024-12-12T12:41:21.430058Z"
    },
    "trusted": true
   },
   "outputs": [
    {
     "name": "stderr",
     "output_type": "stream",
     "text": [
      " 20%|██        | 1/5 [09:09<36:39, 549.90s/it]"
     ]
    },
    {
     "name": "stdout",
     "output_type": "stream",
     "text": [
      "Epoch 1/5: Train Loss=0.1442, Val Loss=0.3743\n"
     ]
    },
    {
     "name": "stderr",
     "output_type": "stream",
     "text": [
      " 40%|████      | 2/5 [18:25<27:40, 553.39s/it]"
     ]
    },
    {
     "name": "stdout",
     "output_type": "stream",
     "text": [
      "Epoch 2/5: Train Loss=0.0768, Val Loss=0.3874\n"
     ]
    },
    {
     "name": "stderr",
     "output_type": "stream",
     "text": [
      " 60%|██████    | 3/5 [27:43<18:31, 555.55s/it]"
     ]
    },
    {
     "name": "stdout",
     "output_type": "stream",
     "text": [
      "Epoch 3/5: Train Loss=0.4078, Val Loss=1.5632\n"
     ]
    },
    {
     "name": "stderr",
     "output_type": "stream",
     "text": [
      " 80%|████████  | 4/5 [37:06<09:18, 558.29s/it]"
     ]
    },
    {
     "name": "stdout",
     "output_type": "stream",
     "text": [
      "Epoch 4/5: Train Loss=1.1199, Val Loss=0.8718\n"
     ]
    },
    {
     "name": "stderr",
     "output_type": "stream",
     "text": [
      "100%|██████████| 5/5 [46:26<00:00, 557.38s/it]"
     ]
    },
    {
     "name": "stdout",
     "output_type": "stream",
     "text": [
      "Epoch 5/5: Train Loss=0.8931, Val Loss=0.8409\n"
     ]
    },
    {
     "name": "stderr",
     "output_type": "stream",
     "text": [
      "\n"
     ]
    },
    {
     "name": "stdout",
     "output_type": "stream",
     "text": [
      "Test Loss: 1.2216176706338404\n",
      "              precision    recall  f1-score   support\n",
      "\n",
      "      Non-AF       0.88      0.78      0.83    218937\n",
      "          AF       0.26      0.41      0.31     40083\n",
      "\n",
      "    accuracy                           0.73    259020\n",
      "   macro avg       0.57      0.60      0.57    259020\n",
      "weighted avg       0.78      0.73      0.75    259020\n",
      "\n"
     ]
    }
   ],
   "source": [
    "arnet2_model = ArNet2()\n",
    "trues_, preds_arnet = train_and_test_model(arnet2_model, train_loader, val_loader, test_loader, epochs=5)"
   ]
  },
  {
   "cell_type": "code",
   "execution_count": 5,
   "metadata": {},
   "outputs": [
    {
     "data": {
      "image/png": "[encoded data removed]",
      "text/plain": [
       "<Figure size 800x600 with 1 Axes>"
      ]
     },
     "metadata": {},
     "output_type": "display_data"
    }
   ],
   "source": [
    "train_losses = [0.1442, 0.0768, 0.4078, 1.1199, 0.8931]\n",
    "val_losses = [0.3743, 0.3874, 1.5632, 0.8718, 0.8409]\n",
    "plot_losses(train_losses, val_losses, \"Losses in simplified ArNet2 architecture\")"
   ]
  },
  {
   "cell_type": "code",
   "execution_count": 18,
   "metadata": {
    "execution": {
     "iopub.execute_input": "2024-12-14T20:25:11.856475Z",
     "iopub.status.busy": "2024-12-14T20:25:11.855776Z",
     "iopub.status.idle": "2024-12-14T20:25:11.867055Z",
     "shell.execute_reply": "2024-12-14T20:25:11.866054Z",
     "shell.execute_reply.started": "2024-12-14T20:25:11.856439Z"
    },
    "trusted": true
   },
   "outputs": [],
   "source": [
    "\n",
    "class Advanced1DCNN(nn.Module):\n",
    "    def __init__(self, input_length, num_classes=2, dropout_prob=0.5):\n",
    "        super(Advanced1DCNN, self).__init__()\n",
    "        \n",
    "        self.block1 = nn.Sequential(\n",
    "            nn.Conv1d(1, 32, kernel_size=7, stride=1, padding=3),\n",
    "            nn.BatchNorm1d(32),\n",
    "            nn.ReLU(inplace=True),\n",
    "            \n",
    "            nn.Conv1d(32, 32, kernel_size=7, stride=1, padding=3),\n",
    "            nn.BatchNorm1d(32),\n",
    "            nn.ReLU(inplace=True),\n",
    "            \n",
    "            nn.MaxPool1d(2)\n",
    "        )\n",
    "\n",
    "        self.block2 = nn.Sequential(\n",
    "            nn.Conv1d(32, 64, kernel_size=7, stride=1, padding=3),\n",
    "            nn.BatchNorm1d(64),\n",
    "            nn.ReLU(inplace=True),\n",
    "            \n",
    "            nn.Conv1d(64, 64, kernel_size=7, stride=1, padding=3),\n",
    "            nn.BatchNorm1d(64),\n",
    "            nn.ReLU(inplace=True),\n",
    "            \n",
    "            nn.MaxPool1d(2)\n",
    "        )\n",
    "\n",
    "        self.residual_conv = nn.Conv1d(32, 64, kernel_size=1)\n",
    "        \n",
    "        self.block3 = nn.Sequential(\n",
    "            nn.Conv1d(64, 128, kernel_size=7, stride=1, padding=3),\n",
    "            nn.BatchNorm1d(128),\n",
    "            nn.ReLU(inplace=True),\n",
    "        )\n",
    "        \n",
    "        self.dropout = nn.Dropout(p=dropout_prob)\n",
    "        \n",
    "        feature_size = self._calculate_feature_size(input_length)\n",
    "        \n",
    "        self.fc = nn.Linear(feature_size, num_classes)\n",
    "        \n",
    "    def _calculate_feature_size(self, input_length):\n",
    "        with torch.no_grad():\n",
    "            x = torch.zeros(1, 1, input_length)\n",
    "            x = self.block1(x)\n",
    "            x_block1 = x\n",
    "            x = self.block2(x)\n",
    "\n",
    "            x = x + self.residual_conv(x_block1[:, :, ::2])  \n",
    "            x = self.block3(x)\n",
    "            x = x.mean(dim=2)\n",
    "            return x.shape[1]\n",
    "        \n",
    "    def forward(self, x):\n",
    "        x_block1 = self.block1(x)\n",
    "        x_block2 = self.block2(x_block1)\n",
    "\n",
    "        x_res = self.residual_conv(x_block1[:, :, ::2])\n",
    "        \n",
    "        x = x_block2 + x_res\n",
    "        x = self.block3(x)        \n",
    "        x = x.mean(dim=2)\n",
    "        \n",
    "        x = self.dropout(x)\n",
    "        x = self.fc(x)\n",
    "        \n",
    "        return x"
   ]
  },
  {
   "cell_type": "code",
   "execution_count": 17,
   "metadata": {
    "execution": {
     "iopub.execute_input": "2024-12-14T20:23:47.013940Z",
     "iopub.status.busy": "2024-12-14T20:23:47.013076Z",
     "iopub.status.idle": "2024-12-14T20:23:47.019585Z",
     "shell.execute_reply": "2024-12-14T20:23:47.018646Z",
     "shell.execute_reply.started": "2024-12-14T20:23:47.013903Z"
    },
    "trusted": true
   },
   "outputs": [],
   "source": [
    "class EarlyStopping:\n",
    "    def __init__(self, patience=3, verbose=False):\n",
    "        self.patience = patience\n",
    "        self.verbose = verbose\n",
    "        self.counter = 0\n",
    "        self.best_loss = None\n",
    "        self.early_stop = False\n",
    "\n",
    "    def __call__(self, val_loss):\n",
    "        if self.best_loss is None:\n",
    "            self.best_loss = val_loss\n",
    "        elif val_loss > self.best_loss:\n",
    "            self.counter += 1\n",
    "            if self.verbose:\n",
    "                print(f\"EarlyStopping counter: {self.counter}/{self.patience}\")\n",
    "            if self.counter >= self.patience:\n",
    "                self.early_stop = True\n",
    "        else:\n",
    "            self.best_loss = val_loss\n",
    "            self.counter = 0"
   ]
  },
  {
   "cell_type": "code",
   "execution_count": 57,
   "metadata": {
    "execution": {
     "iopub.execute_input": "2024-12-12T13:47:53.646912Z",
     "iopub.status.busy": "2024-12-12T13:47:53.646597Z",
     "iopub.status.idle": "2024-12-12T13:47:53.658513Z",
     "shell.execute_reply": "2024-12-12T13:47:53.657684Z",
     "shell.execute_reply.started": "2024-12-12T13:47:53.646887Z"
    },
    "trusted": true
   },
   "outputs": [],
   "source": [
    "input_length = train_dataset.segments.shape[1]\n",
    "advanced_cnn_model = Advanced1DCNN(input_length)\n",
    "model = advanced_cnn_model"
   ]
  },
  {
   "cell_type": "code",
   "execution_count": 20,
   "metadata": {
    "execution": {
     "iopub.execute_input": "2024-12-14T20:37:04.055033Z",
     "iopub.status.busy": "2024-12-14T20:37:04.054024Z",
     "iopub.status.idle": "2024-12-14T20:37:05.193460Z",
     "shell.execute_reply": "2024-12-14T20:37:05.192762Z",
     "shell.execute_reply.started": "2024-12-14T20:37:04.054997Z"
    },
    "trusted": true
   },
   "outputs": [],
   "source": [
    "model.to(device)\n",
    "criterion = nn.CrossEntropyLoss()\n",
    "optimizer = torch.optim.Adam(model.parameters(), lr=1e-3, weight_decay=1e-4)\n",
    "early_stopping = EarlyStopping(patience=3, verbose=True)"
   ]
  },
  {
   "cell_type": "code",
   "execution_count": 59,
   "metadata": {
    "execution": {
     "iopub.execute_input": "2024-12-12T13:48:30.186547Z",
     "iopub.status.busy": "2024-12-12T13:48:30.185662Z",
     "iopub.status.idle": "2024-12-12T15:00:41.912779Z",
     "shell.execute_reply": "2024-12-12T15:00:41.911865Z",
     "shell.execute_reply.started": "2024-12-12T13:48:30.186513Z"
    },
    "trusted": true
   },
   "outputs": [
    {
     "name": "stderr",
     "output_type": "stream",
     "text": [
      " 10%|█         | 1/10 [14:24<2:09:37, 864.12s/it]"
     ]
    },
    {
     "name": "stdout",
     "output_type": "stream",
     "text": [
      "Epoch 1/10, Train Loss: 0.0930, Val Loss: 0.3509\n"
     ]
    },
    {
     "name": "stderr",
     "output_type": "stream",
     "text": [
      " 20%|██        | 2/10 [28:51<1:55:26, 865.79s/it]"
     ]
    },
    {
     "name": "stdout",
     "output_type": "stream",
     "text": [
      "Epoch 2/10, Train Loss: 0.0728, Val Loss: 0.2655\n"
     ]
    },
    {
     "name": "stderr",
     "output_type": "stream",
     "text": [
      " 30%|███       | 3/10 [43:18<1:41:05, 866.46s/it]"
     ]
    },
    {
     "name": "stdout",
     "output_type": "stream",
     "text": [
      "Epoch 3/10, Train Loss: 0.0707, Val Loss: 0.3177\n",
      "EarlyStopping counter: 1/3\n"
     ]
    },
    {
     "name": "stderr",
     "output_type": "stream",
     "text": [
      " 40%|████      | 4/10 [57:45<1:26:39, 866.65s/it]"
     ]
    },
    {
     "name": "stdout",
     "output_type": "stream",
     "text": [
      "Epoch 4/10, Train Loss: 0.0694, Val Loss: 0.4095\n",
      "EarlyStopping counter: 2/3\n"
     ]
    },
    {
     "name": "stderr",
     "output_type": "stream",
     "text": [
      " 40%|████      | 4/10 [1:12:11<1:48:17, 1082.93s/it]"
     ]
    },
    {
     "name": "stdout",
     "output_type": "stream",
     "text": [
      "Epoch 5/10, Train Loss: 0.0685, Val Loss: 0.2666\n",
      "EarlyStopping counter: 3/3\n",
      "Early stopping triggered.\n"
     ]
    },
    {
     "name": "stderr",
     "output_type": "stream",
     "text": [
      "\n"
     ]
    },
    {
     "data": {
      "text/plain": [
       "<All keys matched successfully>"
      ]
     },
     "execution_count": 59,
     "metadata": {},
     "output_type": "execute_result"
    }
   ],
   "source": [
    "epochs = 10\n",
    "best_val_loss = float('inf')\n",
    "best_model_state = None\n",
    "for epoch in tqdm(range(epochs)):\n",
    "    model.train()\n",
    "    total_train_loss = 0\n",
    "    for x, y in train_loader:\n",
    "        x, y = x.to(device), y.to(device)\n",
    "        optimizer.zero_grad()\n",
    "        logits = model(x)\n",
    "        loss = criterion(logits, y)\n",
    "        loss.backward()\n",
    "        optimizer.step()\n",
    "        total_train_loss += loss.item() * x.size(0)\n",
    "    train_loss = total_train_loss / len(train_loader.dataset)\n",
    "\n",
    "    model.eval()\n",
    "    total_val_loss = 0\n",
    "    all_preds = []\n",
    "    all_labels = []\n",
    "    with torch.no_grad():\n",
    "        for x, y in val_loader:\n",
    "            x, y = x.to(device), y.to(device)\n",
    "            logits = model(x)\n",
    "            loss = criterion(logits, y)\n",
    "            total_val_loss += loss.item() * x.size(0)\n",
    "            preds = torch.argmax(logits, dim=1).cpu().numpy()\n",
    "            all_preds.extend(preds)\n",
    "            all_labels.extend(y.cpu().numpy())\n",
    "\n",
    "    val_loss = total_val_loss / len(val_loader.dataset)\n",
    "    print(f\"Epoch {epoch+1}/{epochs}, Train Loss: {train_loss:.4f}, Val Loss: {val_loss:.4f}\")\n",
    "\n",
    "    if val_loss < best_val_loss:\n",
    "        best_val_loss = val_loss\n",
    "        best_model_state = model.state_dict()\n",
    "\n",
    "    early_stopping(val_loss)\n",
    "    if early_stopping.early_stop:\n",
    "        print(\"Early stopping triggered.\")\n",
    "        break\n",
    "\n",
    "model.load_state_dict(best_model_state)"
   ]
  },
  {
   "cell_type": "code",
   "execution_count": 4,
   "metadata": {},
   "outputs": [
    {
     "data": {
      "image/png": "[encoded data removed]",
      "text/plain": [
       "<Figure size 800x600 with 1 Axes>"
      ]
     },
     "metadata": {},
     "output_type": "display_data"
    }
   ],
   "source": [
    "train_losses = [0.0930, 0.0728, 0.0707, 0.0694, 0.0685]\n",
    "val_losses = [0.3509, 0.2655, 0.3177, 0.4095, 0.2666]\n",
    "plot_losses(train_losses, val_losses, \"Losses in Advanced 1D CNN architecture\")"
   ]
  },
  {
   "cell_type": "code",
   "execution_count": 60,
   "metadata": {
    "execution": {
     "iopub.execute_input": "2024-12-12T15:05:54.975457Z",
     "iopub.status.busy": "2024-12-12T15:05:54.974736Z",
     "iopub.status.idle": "2024-12-12T15:06:45.208453Z",
     "shell.execute_reply": "2024-12-12T15:06:45.207499Z",
     "shell.execute_reply.started": "2024-12-12T15:05:54.975422Z"
    },
    "trusted": true
   },
   "outputs": [
    {
     "name": "stdout",
     "output_type": "stream",
     "text": [
      "Test Loss: 0.1939716433744944\n",
      "              precision    recall  f1-score   support\n",
      "\n",
      "      Non-AF       0.94      0.98      0.96    218937\n",
      "          AF       0.87      0.64      0.74     40083\n",
      "\n",
      "    accuracy                           0.93    259020\n",
      "   macro avg       0.90      0.81      0.85    259020\n",
      "weighted avg       0.93      0.93      0.93    259020\n",
      "\n"
     ]
    }
   ],
   "source": [
    "model.eval()\n",
    "test_loss = 0\n",
    "all_preds = []\n",
    "all_labels = []\n",
    "with torch.no_grad():\n",
    "    for x, y in test_loader:\n",
    "        x, y = x.to(device), y.to(device)\n",
    "        logits = model(x)\n",
    "        loss = criterion(logits, y)\n",
    "        test_loss += loss.item() * x.size(0)\n",
    "        preds = torch.argmax(logits, dim=1).cpu().numpy()\n",
    "        all_preds.extend(preds)\n",
    "        all_labels.extend(y.cpu().numpy())\n",
    "test_loss = test_loss / len(test_loader.dataset)\n",
    "print(\"Test Loss:\", test_loss)\n",
    "print(classification_report(all_labels, all_preds, target_names=[\"Non-AF\",\"AF\"]))"
   ]
  },
  {
   "cell_type": "code",
   "execution_count": 19,
   "metadata": {
    "execution": {
     "iopub.execute_input": "2024-12-14T20:26:48.053905Z",
     "iopub.status.busy": "2024-12-14T20:26:48.053476Z",
     "iopub.status.idle": "2024-12-14T20:26:48.369381Z",
     "shell.execute_reply": "2024-12-14T20:26:48.368382Z",
     "shell.execute_reply.started": "2024-12-14T20:26:48.053872Z"
    },
    "trusted": true
   },
   "outputs": [
    {
     "name": "stderr",
     "output_type": "stream",
     "text": [
      "/tmp/ipykernel_23/4220619522.py:2: FutureWarning: You are using `torch.load` with `weights_only=False` (the current default value), which uses the default pickle module implicitly. It is possible to construct malicious pickle data which will execute arbitrary code during unpickling (See https://github.com/pytorch/pytorch/blob/main/SECURITY.md#untrusted-models for more details). In a future release, the default value for `weights_only` will be flipped to `True`. This limits the functions that could be executed during unpickling. Arbitrary objects will no longer be allowed to be loaded via this mode unless they are explicitly allowlisted by the user via `torch.serialization.add_safe_globals`. We recommend you start setting `weights_only=True` for any use case where you don't have full control of the loaded file. Please open an issue on GitHub for any issues related to this experimental feature.\n",
      "  model = torch.load('/kaggle/input/advanced_cnn_ecg/pytorch/initial/1/advanced_cnn.pth')\n"
     ]
    },
    {
     "data": {
      "text/plain": [
       "Advanced1DCNN(\n",
       "  (block1): Sequential(\n",
       "    (0): Conv1d(1, 32, kernel_size=(7,), stride=(1,), padding=(3,))\n",
       "    (1): BatchNorm1d(32, eps=1e-05, momentum=0.1, affine=True, track_running_stats=True)\n",
       "    (2): ReLU(inplace=True)\n",
       "    (3): Conv1d(32, 32, kernel_size=(7,), stride=(1,), padding=(3,))\n",
       "    (4): BatchNorm1d(32, eps=1e-05, momentum=0.1, affine=True, track_running_stats=True)\n",
       "    (5): ReLU(inplace=True)\n",
       "    (6): MaxPool1d(kernel_size=2, stride=2, padding=0, dilation=1, ceil_mode=False)\n",
       "  )\n",
       "  (block2): Sequential(\n",
       "    (0): Conv1d(32, 64, kernel_size=(7,), stride=(1,), padding=(3,))\n",
       "    (1): BatchNorm1d(64, eps=1e-05, momentum=0.1, affine=True, track_running_stats=True)\n",
       "    (2): ReLU(inplace=True)\n",
       "    (3): Conv1d(64, 64, kernel_size=(7,), stride=(1,), padding=(3,))\n",
       "    (4): BatchNorm1d(64, eps=1e-05, momentum=0.1, affine=True, track_running_stats=True)\n",
       "    (5): ReLU(inplace=True)\n",
       "    (6): MaxPool1d(kernel_size=2, stride=2, padding=0, dilation=1, ceil_mode=False)\n",
       "  )\n",
       "  (residual_conv): Conv1d(32, 64, kernel_size=(1,), stride=(1,))\n",
       "  (block3): Sequential(\n",
       "    (0): Conv1d(64, 128, kernel_size=(7,), stride=(1,), padding=(3,))\n",
       "    (1): BatchNorm1d(128, eps=1e-05, momentum=0.1, affine=True, track_running_stats=True)\n",
       "    (2): ReLU(inplace=True)\n",
       "  )\n",
       "  (dropout): Dropout(p=0.5, inplace=False)\n",
       "  (fc): Linear(in_features=128, out_features=2, bias=True)\n",
       ")"
      ]
     },
     "execution_count": 19,
     "metadata": {},
     "output_type": "execute_result"
    }
   ],
   "source": [
    "device = torch.device('cuda' if torch.cuda.is_available() else 'cpu')\n",
    "model = torch.load('/kaggle/input/advanced_cnn_ecg/pytorch/initial/1/advanced_cnn.pth')\n",
    "model.to(device)"
   ]
  },
  {
   "cell_type": "code",
   "execution_count": 25,
   "metadata": {
    "execution": {
     "iopub.execute_input": "2024-12-14T20:51:40.535218Z",
     "iopub.status.busy": "2024-12-14T20:51:40.534253Z",
     "iopub.status.idle": "2024-12-14T20:52:31.655481Z",
     "shell.execute_reply": "2024-12-14T20:52:31.654462Z",
     "shell.execute_reply.started": "2024-12-14T20:51:40.535178Z"
    },
    "trusted": true
   },
   "outputs": [
    {
     "name": "stdout",
     "output_type": "stream",
     "text": [
      "Default Threshold (0.5) Classification Report:\n",
      "              precision    recall  f1-score   support\n",
      "\n",
      "      Non-AF       0.94      0.98      0.96    218937\n",
      "          AF       0.87      0.64      0.74     40083\n",
      "\n",
      "    accuracy                           0.93    259020\n",
      "   macro avg       0.90      0.81      0.85    259020\n",
      "weighted avg       0.93      0.93      0.93    259020\n",
      "\n",
      "\n",
      "Higher Threshold (0.9) Classification Report:\n",
      "              precision    recall  f1-score   support\n",
      "\n",
      "      Non-AF       0.89      1.00      0.94    218937\n",
      "          AF       0.95      0.35      0.51     40083\n",
      "\n",
      "    accuracy                           0.90    259020\n",
      "   macro avg       0.92      0.67      0.73    259020\n",
      "weighted avg       0.90      0.90      0.88    259020\n",
      "\n",
      "\n",
      "Lower Threshold (0.1) Classification Report:\n",
      "              precision    recall  f1-score   support\n",
      "\n",
      "      Non-AF       0.97      0.92      0.94    218937\n",
      "          AF       0.66      0.83      0.74     40083\n",
      "\n",
      "    accuracy                           0.91    259020\n",
      "   macro avg       0.82      0.88      0.84    259020\n",
      "weighted avg       0.92      0.91      0.91    259020\n",
      "\n",
      "\n",
      "Lowest Threshold (0.02) Classification Report:\n",
      "              precision    recall  f1-score   support\n",
      "\n",
      "      Non-AF       0.99      0.81      0.89    218937\n",
      "          AF       0.48      0.96      0.64     40083\n",
      "\n",
      "    accuracy                           0.83    259020\n",
      "   macro avg       0.74      0.88      0.77    259020\n",
      "weighted avg       0.91      0.83      0.85    259020\n",
      "\n"
     ]
    }
   ],
   "source": [
    "model.eval()\n",
    "test_loss = 0\n",
    "logits_list = []\n",
    "labels_list = []\n",
    "\n",
    "with torch.no_grad():\n",
    "    for x, y in test_loader:\n",
    "        x, y = x.to(device), y.to(device)\n",
    "        output = model(x)\n",
    "        probs = torch.softmax(output, dim=1)\n",
    "        \n",
    "        logits_list.append(probs.cpu().numpy())\n",
    "        labels_list.append(y.cpu().numpy())\n",
    "\n",
    "probs_array = np.concatenate(logits_list, axis=0)\n",
    "labels_array = np.concatenate(labels_list, axis=0)\n",
    "\n",
    "default_preds = np.argmax(probs_array, axis=1)\n",
    "print(\"Default Threshold (0.5) Classification Report:\")\n",
    "print(classification_report(labels_array, default_preds, target_names=[\"Non-AF\", \"AF\"]))\n",
    "\n",
    "threshold = 0.9\n",
    "adjusted_preds = (probs_array[:,1] > threshold).astype(int)\n",
    "\n",
    "print(f\"\\nHigher Threshold ({threshold}) Classification Report:\")\n",
    "print(classification_report(labels_array, adjusted_preds, target_names=[\"Non-AF\", \"AF\"]))\n",
    "\n",
    "threshold = 0.1\n",
    "adjusted_preds = (probs_array[:,1] > threshold).astype(int)\n",
    "\n",
    "print(f\"\\nLower Threshold ({threshold}) Classification Report:\")\n",
    "print(classification_report(labels_array, adjusted_preds, target_names=[\"Non-AF\", \"AF\"]))\n",
    "\n",
    "threshold = 0.02\n",
    "adjusted_preds = (probs_array[:,1] > threshold).astype(int)\n",
    "\n",
    "print(f\"\\nLowest Threshold ({threshold}) Classification Report:\")\n",
    "print(classification_report(labels_array, adjusted_preds, target_names=[\"Non-AF\", \"AF\"]))"
   ]
  }
 ],
 "metadata": {
  "kaggle": {
   "accelerator": "gpu",
   "dataSources": [
    {
     "datasetId": 6284616,
     "sourceId": 10174987,
     "sourceType": "datasetVersion"
    },
    {
     "isSourceIdPinned": true,
     "modelId": 191670,
     "modelInstanceId": 169319,
     "sourceId": 198522,
     "sourceType": "modelInstanceVersion"
    }
   ],
   "dockerImageVersionId": 30804,
   "isGpuEnabled": true,
   "isInternetEnabled": true,
   "language": "python",
   "sourceType": "notebook"
  },
  "kernelspec": {
   "display_name": "Python 3",
   "language": "python",
   "name": "python3"
  },
  "language_info": {
   "codemirror_mode": {
    "name": "ipython",
    "version": 3
   },
   "file_extension": ".py",
   "mimetype": "text/x-python",
   "name": "python",
   "nbconvert_exporter": "python",
   "pygments_lexer": "ipython3",
   "version": "3.12.0"
  }
 },
 "nbformat": 4,
 "nbformat_minor": 4
}
